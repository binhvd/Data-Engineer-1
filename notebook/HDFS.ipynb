{
 "cells": [
  {
   "cell_type": "code",
   "execution_count": 2,
   "id": "fc54a0e1",
   "metadata": {},
   "outputs": [],
   "source": [
    "from hdfs.ext.kerberos import KerberosClient\n",
    "import pandas as pd\n",
    "\n",
    "# Write to HDFS\n",
    "\n",
    "liste_hello = ['hello1','hello2']\n",
    "liste_world = ['world1','world2']\n",
    "df = pd.DataFrame(data = {'hello' : liste_hello, 'world': liste_world})\n",
    "\n",
    "hdfs_client = KerberosClient('http://master-node:9870','OPTIONAL')\n",
    "with hdfs_client.write('/data/test.csv', encoding='utf-8') as writer:\n",
    "    df.to_csv(writer)"
   ]
  },
  {
   "cell_type": "code",
   "execution_count": 3,
   "id": "8ea0ba8a",
   "metadata": {},
   "outputs": [
    {
     "data": {
      "text/html": [
       "<div>\n",
       "<style scoped>\n",
       "    .dataframe tbody tr th:only-of-type {\n",
       "        vertical-align: middle;\n",
       "    }\n",
       "\n",
       "    .dataframe tbody tr th {\n",
       "        vertical-align: top;\n",
       "    }\n",
       "\n",
       "    .dataframe thead th {\n",
       "        text-align: right;\n",
       "    }\n",
       "</style>\n",
       "<table border=\"1\" class=\"dataframe\">\n",
       "  <thead>\n",
       "    <tr style=\"text-align: right;\">\n",
       "      <th></th>\n",
       "      <th>Unnamed: 0</th>\n",
       "      <th>hello</th>\n",
       "      <th>world</th>\n",
       "    </tr>\n",
       "  </thead>\n",
       "  <tbody>\n",
       "    <tr>\n",
       "      <th>0</th>\n",
       "      <td>0</td>\n",
       "      <td>hello1</td>\n",
       "      <td>world1</td>\n",
       "    </tr>\n",
       "    <tr>\n",
       "      <th>1</th>\n",
       "      <td>1</td>\n",
       "      <td>hello2</td>\n",
       "      <td>world2</td>\n",
       "    </tr>\n",
       "  </tbody>\n",
       "</table>\n",
       "</div>"
      ],
      "text/plain": [
       "   Unnamed: 0   hello   world\n",
       "0           0  hello1  world1\n",
       "1           1  hello2  world2"
      ]
     },
     "execution_count": 3,
     "metadata": {},
     "output_type": "execute_result"
    }
   ],
   "source": [
    "# Read from HDFS\n",
    "\n",
    "with hdfs_client.read('/data/test.csv') as reader:\n",
    "    df2 = pd.read_csv(reader, sep=',')\n",
    "\n",
    "df2"
   ]
  },
  {
   "cell_type": "code",
   "execution_count": null,
   "id": "f6ae8ab4",
   "metadata": {},
   "outputs": [],
   "source": [
    "# More at https://tahiriamine9.medium.com/python-hdfs-cd822199799e"
   ]
  }
 ],
 "metadata": {
  "kernelspec": {
   "display_name": "Python 3 (ipykernel)",
   "language": "python",
   "name": "python3"
  },
  "language_info": {
   "codemirror_mode": {
    "name": "ipython",
    "version": 3
   },
   "file_extension": ".py",
   "mimetype": "text/x-python",
   "name": "python",
   "nbconvert_exporter": "python",
   "pygments_lexer": "ipython3",
   "version": "3.10.6"
  }
 },
 "nbformat": 4,
 "nbformat_minor": 5
}
